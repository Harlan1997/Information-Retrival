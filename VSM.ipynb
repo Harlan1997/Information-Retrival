{
 "nbformat": 4,
 "nbformat_minor": 2,
 "metadata": {
  "language_info": {
   "name": "python",
   "codemirror_mode": {
    "name": "ipython",
    "version": 3
   },
   "version": "3.7.2-final"
  },
  "orig_nbformat": 2,
  "file_extension": ".py",
  "mimetype": "text/x-python",
  "name": "python",
  "npconvert_exporter": "python",
  "pygments_lexer": "ipython3",
  "version": 3,
  "kernelspec": {
   "name": "python37264bit849ddaf49a8f4ce5837b70b9f7eb3e2d",
   "display_name": "Python 3.7.2 64-bit"
  }
 },
 "cells": [
  {
   "cell_type": "code",
   "execution_count": 11,
   "metadata": {},
   "outputs": [],
   "source": [
    "import os\n",
    "import re\n",
    "import csv\n",
    "import collections\n",
    "import math\n",
    "from nltk.corpus import stopwords\n",
    "from nltk.stem.porter import*\n",
    "from nltk.tokenize import RegexpTokenizer\n",
    "import nltk\n",
    "import collections\n",
    "import string"
   ]
  },
  {
   "cell_type": "code",
   "execution_count": 12,
   "metadata": {},
   "outputs": [],
   "source": [
    "path = 'C:\\\\Users\\\\lm709\\\\OneDrive\\\\codes\\\\IR_lab\\\\lab3\\\\20_newsgroups'"
   ]
  },
  {
   "cell_type": "code",
   "execution_count": 13,
   "metadata": {},
   "outputs": [],
   "source": [
    "def tfidf(tf, df):\n",
    "    if tf == 0:\n",
    "        wf = 0\n",
    "    else:\n",
    "        wf = 1 + math.log10(tf)\n",
    "    idf = math.log10((N * 1.0) / (df + 1))\n",
    "    return wf * idf"
   ]
  },
  {
   "cell_type": "code",
   "execution_count": null,
   "metadata": {},
   "outputs": [],
   "source": [
    "def spimi():\n",
    "\t#Open all the block files\n",
    "\tblockFiles = [open('DISK/' + i) for i in listdir('DISK/') if i.find('DS_Store') == -1]\n",
    "\t#Open the final index file\n",
    "\tindexFile = open('result/index.txt', 'a+') #python3 - (, encoding = \"ISO-8859-1\")\n",
    "\n",
    "\tfirstLines = OrderedDict() # blockId:{term:[postings]}\n",
    "\n",
    "\tfor blockFile in blockFiles:\n",
    "\t\tif 'BLOCK' in blockFile.name:\n",
    "\t\t\tblockFileID = getBlockFileID(blockFile)\n",
    "\t\t\tterm = {}\n",
    "\t\t\tline = blockFile.readline()\n",
    "\n",
    "\t\t\tif not line == '':\n",
    "\t\t\t\tlineSplit = line.split(':')\n",
    "\t\t\t\tterm = lineSplit[0]\n",
    "\t\t\t\tpostings = ast.literal_eval(lineSplit[1])\n",
    "\t\t\t\tfirstLines[blockFileID] = {term : postings}\n",
    "\n",
    "\tblocksEmpty = False #set to true when nothing is left in blocks\n",
    "\n",
    "\twhile not blocksEmpty:\n",
    "\t\tlowestWordBlockIdTuple = min([[firstLines[i], i] for i in firstLines]) # get lowest term alphabetically, format [{term: [postings list]}, blockId]\n",
    "\t\tcurrentTerm = list(lowestWordBlockIdTuple[0].keys())[0]\n",
    "\t\tblocksWithThisTerm = [blockId for blockId in firstLines if currentTerm in [termKey for termKey in firstLines[blockId]]] # returns the blockIds of the blocks that have the same term at the top of their file\n",
    "\t\tcombinedPostings = sorted(sum([pl[currentTerm] for pl in (firstLines[i] for i in blocksWithThisTerm)], []))\n",
    "\t\tindexFile.write(str(currentTerm) + \":\" + str(combinedPostings) + \"\\n\")\n",
    "\n",
    "\t\tfor blockFileId in blocksWithThisTerm:\n",
    "\t\t\tblockFile = getBlockFileById(blockFileId, blockFiles)\n",
    "\t\t\tif blockFile: # if blockFile was found\n",
    "\t\t\t\tterm = {}\n",
    "\t\t\t\tline = blockFile.readline()\n",
    "\t\t\t\tif not line == '':\n",
    "\t\t\t\t\tlineSplit = line.split(':')\n",
    "\t\t\t\t\tterm = lineSplit[0]\n",
    "\t\t\t\t\tpostings = ast.literal_eval(lineSplit[1])\n",
    "\t\t\t\t\tfirstLines[blockFileId] = {term : postings}\n",
    "\t\t\t\t#else, remove blockFile from blockFiles list\n",
    "\t\t\t\telse:\n",
    "\t\t\t\t\tdel firstLines[blockFileId]\n",
    "\t\t\t\t\tblockFiles.remove(getBlockFileById(blockFileId, blockFiles))\n",
    "\t\t\telse:\n",
    "\t\t\t\tprint(\"remove\")\n",
    "\t\t\t\tblockFiles.remove(getBlockFileById(blockFileId, blockFiles))\n",
    "\t\tif not blockFiles: #if blockFiles is completely empty\n",
    "\t\t\tblocksEmpty = True\n",
    "\t\n",
    "\treturn 0"
   ]
  },
  {
   "cell_type": "code",
   "execution_count": null,
   "metadata": {},
   "outputs": [],
   "source": [
    "def getBlockFileID(blockFile):\n",
    "\tfileName = blockFile.name\n",
    "\tfileIDMatched = re.search('BLOCK(\\d*).txt', fileName)\n",
    "\tif fileIDMatched:\n",
    "\t\treturn int(fileIDMatched.group(1))"
   ]
  },
  {
   "cell_type": "code",
   "execution_count": null,
   "metadata": {},
   "outputs": [],
   "source": [
    "\n",
    "def getBlockFileById(usedBlockId, blockFiles):\n",
    "\tmatchingFiles = [file for file in blockFiles if re.search('BLOCK' + str(usedBlockId), file.name)] # should be only one that matches\n",
    "\tif matchingFiles: # if not empty\n",
    "\t\treturn matchingFiles[0]\n",
    "\telse:\n",
    "\t\treturn False"
   ]
  },
  {
   "cell_type": "code",
   "execution_count": 14,
   "metadata": {},
   "outputs": [],
   "source": [
    "plist = {}\n",
    "N = 0\n",
    "from nltk.tokenize import RegexpTokenizer\n",
    "cachedStopWords = stopwords.words(\"english\")\n",
    "for dirpath, dirnames, files in os.walk(path, topdown=True):\n",
    "    for file in files:\n",
    "        N += 1\n",
    "        fr = open(dirpath+'\\\\'+file, errors='ignore')\n",
    "        text = fr.read().lower()\n",
    "        #to_remove = str.maketrans('','',string.punctuation) #string.puncuation is a string which contains english puncuation\n",
    "        #without_punctuation = text.translate(to_remove)\n",
    "        word_tokenizer = RegexpTokenizer('[A-Za-z]+')\n",
    "        terms = word_tokenizer.tokenize(text)\n",
    "        #terms = [word for word in terms if word not in cachedStopWords]\n",
    "        tf_td = collections.Counter(terms)\n",
    "        terms = set(terms)\n",
    "        for term in terms:\n",
    "            pair = ((dirpath+'\\\\'+file), tf_td[term])\n",
    "            if term in plist:\n",
    "                plist[term].add(pair)\n",
    "            else:\n",
    "                plist[term] = set([pair])\n",
    "        fr.close()"
   ]
  },
  {
   "cell_type": "code",
   "execution_count": 15,
   "metadata": {},
   "outputs": [],
   "source": [
    "length = {}\n",
    "for term, values in plist.items():\n",
    "    df = len(plist[term])\n",
    "    for pair in values:\n",
    "        doc = pair[0]\n",
    "        tf = pair[1]\n",
    "        if doc in length:\n",
    "            length[doc] += tfidf(tf, df) * tfidf(tf, df)\n",
    "        else:\n",
    "            length[doc] = tfidf(tf, df) * tfidf(tf, df)\n",
    "for key in length:\n",
    "    length[key] = math.sqrt(length[key])"
   ]
  },
  {
   "cell_type": "code",
   "execution_count": 16,
   "metadata": {
    "tags": [
     "outputPrepend",
     "outputPrepend",
     "outputPrepend",
     "outputPrepend",
     "outputPrepend",
     "outputPrepend",
     "outputPrepend",
     "outputPrepend",
     "outputPrepend"
    ]
   },
   "outputs": [
    {
     "output_type": "execute_result",
     "data": {
      "text/plain": "70.4715220682423"
     },
     "metadata": {},
     "execution_count": 16
    }
   ],
   "source": [
    "length['C:\\\\Users\\\\lm709\\\\OneDrive\\\\codes\\\\IR_lab\\\\lab3\\\\20_newsgroups\\\\20_newsgroups\\\\alt.atheism\\\\49960']"
   ]
  },
  {
   "cell_type": "code",
   "execution_count": 17,
   "metadata": {},
   "outputs": [],
   "source": [
    "def cosineScore(q):\n",
    "    q = q.lower()\n",
    "    score = {}\n",
    "    word_tokenizer = RegexpTokenizer('[A-Za-z]+')\n",
    "    terms_q = word_tokenizer.tokenize(q)\n",
    "    tf_cnt = collections.Counter(terms_q)\n",
    "    terms_q = set(terms_q)\n",
    "    for term in terms_q:\n",
    "        if term in plist:\n",
    "            df = len(plist[term])\n",
    "            for pair in plist[term]:\n",
    "                tf_td = pair[1]\n",
    "                tf_tq = tf_cnt[term]\n",
    "                w_td = tfidf(tf_td, df)                \n",
    "                w_tq = tfidf(tf_tq, df)\n",
    "                if pair[0] in score:\n",
    "                    score[pair[0]] = score[pair[0]] + w_td * w_tq\n",
    "                else:\n",
    "                    score[pair[0]] = w_td * w_tq    \n",
    "    for doc in score:\n",
    "        score[doc] = (score[doc]*1.0) / (length[doc])     \n",
    "    score = sorted(score.items(), key=lambda item:item[1], reverse=True)\n",
    "    k = 0\n",
    "    for doc in score:\n",
    "        print(doc[0])\n",
    "        k = k + 1\n",
    "        if k == 10:\n",
    "            break"
   ]
  },
  {
   "cell_type": "code",
   "execution_count": 19,
   "metadata": {},
   "outputs": [
    {
     "output_type": "stream",
     "name": "stdout",
     "text": "*****************************************************************\n\n*****************************************************************\n\n**********************Enter exit to quit*************************\n*****************************************************************\n\n*****************************************************************\n\n**********************Enter exit to quit*************************\n*****************************************************************\n\n*****************************************************************\n\n**********************Enter exit to quit*************************\n*****************************************************************\n\n*****************************************************************\n\n**********************Enter exit to quit*************************\n*****************************************************************\n\n*****************************************************************\n\n**********************Enter exit to quit*************************\n*****************************************************************\n\n*****************************************************************\n\n**********************Enter exit to quit*************************\n*****************************************************************\n\n*****************************************************************\n\n**********************Enter exit to quit*************************\n*****************************************************************\n\n*****************************************************************\n\n**********************Enter exit to quit*************************\n*****************************************************************\n\n*****************************************************************\n\n**********************Enter exit to quit*************************\n*****************************************************************\n\n*****************************************************************\n\n**********************Enter exit to quit*************************\n*****************************************************************\n\n*****************************************************************\n\n**********************Enter exit to quit*************************\n*****************************************************************\n\n*****************************************************************\n\n**********************Enter exit to quit*************************\n*****************************************************************\n\n*****************************************************************\n\n**********************Enter exit to quit*************************\n*****************************************************************\n\n*****************************************************************\n\n**********************Enter exit to quit*************************\n*****************************************************************\n\n*****************************************************************\n\n**********************Enter exit to quit*************************\n*****************************************************************\n\n*****************************************************************\n\n**********************Enter exit to quit*************************\n*****************************************************************\n\n*****************************************************************\n\n**********************Enter exit to quit*************************\n*****************************************************************\n\n*****************************************************************\n\n**********************Enter exit to quit*************************\n"
    }
   ],
   "source": [
    "while True:\n",
    "    print(\"*****************************************************************\\n\")\n",
    "    print(\"*****************************************************************\\n\")\n",
    "    print(\"**********************Enter exit to quit*************************\")\n",
    "    query = input('Please enter the content of query (or press enter to quit): ')\n",
    "    query = query.lower()\n",
    "    if query == 'exit':\n",
    "        break\n",
    "    else:\n",
    "        cosineScore(query)"
   ]
  },
  {
   "cell_type": "code",
   "execution_count": null,
   "metadata": {},
   "outputs": [],
   "source": []
  },
  {
   "cell_type": "code",
   "execution_count": null,
   "metadata": {},
   "outputs": [],
   "source": []
  }
 ]
}