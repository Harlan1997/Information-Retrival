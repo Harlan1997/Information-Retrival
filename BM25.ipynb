{
 "cells": [
  {
   "cell_type": "code",
   "execution_count": 7,
   "metadata": {},
   "outputs": [],
   "source": [
    "import math"
   ]
  },
  {
   "cell_type": "code",
   "execution_count": 8,
   "metadata": {},
   "outputs": [],
   "source": [
    "def doc_len_avg(doc_len):\n",
    "    sum = 0\n",
    "    for key in doc_len:\n",
    "        sum += doc_len[key]\n",
    "    return sum*1.0/len(doc_len)"
   ]
  },
  {
   "cell_type": "code",
   "execution_count": 9,
   "metadata": {},
   "outputs": [],
   "source": [
    "def idf(df, doc_len):\n",
    "    return math.log10((len(doc_len) * 1.0) / (df + 1))"
   ]
  },
  {
   "cell_type": "code",
   "execution_count": 10,
   "metadata": {},
   "outputs": [],
   "source": [
    "def wf(tf):\n",
    "    return 1 + math.log10(tf)"
   ]
  },
  {
   "cell_type": "code",
   "execution_count": 11,
   "metadata": {},
   "outputs": [],
   "source": [
    "def hw3_bm25_11711015(query, doc_len = {}, dictionary = {}):\n",
    "    k = 1.5\n",
    "    b = 0.75\n",
    "    res = []\n",
    "    avgdl = doc_len_avg(doc_len)\n",
    "    score = {}\n",
    "    for term in query:\n",
    "        if term in dictionary:\n",
    "            df = len(dictionary[term])\n",
    "            for pair in dictionary[term]:\n",
    "                tf_td = wf(pair[1])\n",
    "                if pair[0] in score:\n",
    "                    score[pair[0]] = idf(df, doc_len) * tf_td * 1.0 * (k + 1) / (tf_td + (k * (1 - b + b * (doc_len[pair[0]] / avgdl))))\n",
    "                else:\n",
    "                    score[pair[0]] = idf(df, doc_len) * tf_td * 1.0 * (k + 1) / (tf_td + (k * (1 - b + b * (doc_len[pair[0]] / avgdl))))\n",
    "    score = sorted(score.items(), key=lambda item:item[1], reverse=True)\n",
    "    score = dict(score)\n",
    "    i = 0\n",
    "    for doc in score:\n",
    "        if i == 10:\n",
    "            break\n",
    "        res.append((doc, score[doc]))\n",
    "        i += 1\n",
    "    print(res)"
   ]
  },
  {
   "cell_type": "code",
   "execution_count": 19,
   "metadata": {},
   "outputs": [
    {
     "output_type": "stream",
     "name": "stdout",
     "text": "[(1, 0.5218152377274614), (2, 0.1984191671176227), (3, 0.1721267275345858)]\n"
    }
   ],
   "source": [
    "#hw3_bm25_11711015(['china', 'japan', 'russia'], {1:20.5, 2:30.5, 3:40.5, 4:50}, {'a':[(1, 5), (2, 10)], 'japan':[(3,11), (2,22)], 'china':[(1, 21)], 'russsia':[(4, 11)]})"
   ]
  },
  {
   "cell_type": "code",
   "execution_count": null,
   "metadata": {},
   "outputs": [],
   "source": []
  }
 ],
 "metadata": {
  "language_info": {
   "codemirror_mode": {
    "name": "ipython",
    "version": 3
   },
   "file_extension": ".py",
   "mimetype": "text/x-python",
   "name": "python",
   "nbconvert_exporter": "python",
   "pygments_lexer": "ipython3",
   "version": "3.7.2-final"
  },
  "orig_nbformat": 2,
  "kernelspec": {
   "name": "python37264bit849ddaf49a8f4ce5837b70b9f7eb3e2d",
   "display_name": "Python 3.7.2 64-bit"
  }
 },
 "nbformat": 4,
 "nbformat_minor": 2
}