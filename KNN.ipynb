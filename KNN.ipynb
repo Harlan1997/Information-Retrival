{
 "cells": [
  {
   "cell_type": "code",
   "execution_count": 64,
   "metadata": {},
   "outputs": [],
   "source": [
    "def kNN_11711015 (train_data, test_data, train_target, test_target, k = 5):\n",
    "    X_train = np.array(train_data)\n",
    "    y_train = np.array(train_target)\n",
    "    X = np.array(test_data)\n",
    "    y = np.zeros(X.shape[0])\n",
    "    for i in range(X.shape[0]):\n",
    "        distances = np.zeros((X_train.shape[0], 2))\n",
    "        for j in range(X_train.shape[0]):\n",
    "            dis = np.sqrt(np.sum((X - X_train[j])**2))\n",
    "            label = y_train[j]\n",
    "            distances[j] = [dis, label]     # distance from test[i] to train[j]\n",
    "            k_nearest_neighbors = distances[distances[:, 0].argsort()][:k]\n",
    "            counts = np.bincount(k_nearest_neighbors[:, 1].astype('int'))\n",
    "            res = counts.argmax()\n",
    "            y[i] = res\n",
    "    return list(y)"
   ]
  }
 ],
 "metadata": {
  "language_info": {
   "codemirror_mode": {
    "name": "ipython",
    "version": 3
   },
   "file_extension": ".py",
   "mimetype": "text/x-python",
   "name": "python",
   "nbconvert_exporter": "python",
   "pygments_lexer": "ipython3",
   "version": "3.7.2-final"
  },
  "orig_nbformat": 2,
  "kernelspec": {
   "name": "python37264bit849ddaf49a8f4ce5837b70b9f7eb3e2d",
   "display_name": "Python 3.7.2 64-bit"
  }
 },
 "nbformat": 4,
 "nbformat_minor": 2
}