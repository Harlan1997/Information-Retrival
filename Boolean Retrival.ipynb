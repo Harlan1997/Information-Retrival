{
 "nbformat": 4,
 "nbformat_minor": 2,
 "metadata": {
  "language_info": {
   "name": "python",
   "codemirror_mode": {
    "name": "ipython",
    "version": 3
   },
   "version": "3.7.2-final"
  },
  "orig_nbformat": 2,
  "file_extension": ".py",
  "mimetype": "text/x-python",
  "name": "python",
  "npconvert_exporter": "python",
  "pygments_lexer": "ipython3",
  "version": 3,
  "kernelspec": {
   "name": "python37264bit849ddaf49a8f4ce5837b70b9f7eb3e2d",
   "display_name": "Python 3.7.2 64-bit"
  }
 },
 "cells": [
  {
   "cell_type": "code",
   "execution_count": 1,
   "metadata": {},
   "outputs": [],
   "source": [
    "import os\n",
    "import re\n",
    "import csv"
   ]
  },
  {
   "cell_type": "code",
   "execution_count": 2,
   "metadata": {},
   "outputs": [],
   "source": [
    "path = 'C:\\\\Users\\\\lm709\\\\OneDrive\\\\codes\\\\IR_lab\\\\mini_newsgroups_lab2'\n",
    "index = {}\n",
    "ans = {}"
   ]
  },
  {
   "cell_type": "code",
   "execution_count": 3,
   "metadata": {},
   "outputs": [],
   "source": [
    "for dirpath, dirnames, files in os.walk(path, topdown=True):\n",
    "        for file in files:\n",
    "            fr = open(dirpath+'\\\\'+file, encoding='utf-8', errors='ignore')\n",
    "            count = 0\n",
    "            for line in fr.readlines():\n",
    "                if(line[0:7] == \"Lines: \"):\n",
    "                    for n in re.findall(r\"\\d+\", line):\n",
    "                        count = int(n)\n",
    "            fr = open(dirpath+'\\\\'+file, encoding='utf-8', errors='ignore')\n",
    "            body = fr.readlines()[-count:]\n",
    "            fw = open(dirpath+'\\\\'+file, 'a')\n",
    "            fw.seek(0)\n",
    "            fw.truncate()\n",
    "            for line in body:\n",
    "                fw.write(line)\n",
    "            fw.close()\n",
    "            fr.close()"
   ]
  },
  {
   "cell_type": "code",
   "execution_count": 4,
   "metadata": {},
   "outputs": [],
   "source": [
    "cnt = 1\n",
    "for dirpath, dirnames, files in os.walk(path, topdown=True):\n",
    "    for file in files:\n",
    "        os.rename(os.path.join(dirpath+'', str(file)), os.path.join(dirpath+'', str(cnt)))\n",
    "        cnt = cnt + 1"
   ]
  },
  {
   "cell_type": "code",
   "execution_count": 5,
   "metadata": {},
   "outputs": [],
   "source": [
    "from nltk.tokenize import RegexpTokenizer\n",
    "for dirpath, dirnames, files in os.walk(path, topdown=True):\n",
    "    for file in files:\n",
    "        fr = open(dirpath+'\\\\'+file, errors='ignore')\n",
    "        word_tokenizer = RegexpTokenizer('[A-Za-z]+')\n",
    "        terms = word_tokenizer.tokenize(fr.read())\n",
    "        terms.sort()\n",
    "        for word in terms:\n",
    "            word = word.lower()\n",
    "            if word in index:\n",
    "                index[word].add(file)\n",
    "            else:\n",
    "                index[word] = set([file])\n",
    "index = sorted(index.items(), key = lambda x:x[0])  "
   ]
  },
  {
   "cell_type": "code",
   "execution_count": 6,
   "metadata": {},
   "outputs": [],
   "source": [
    "for word, doc_id in index:\n",
    "        temp = [int(x) for x in doc_id]\n",
    "        temp.sort()\n",
    "        ans[word] = temp\n",
    "with open('Inversed index table.csv', 'w') as csvfile:\n",
    "    w = csv.writer(csvfile)\n",
    "    for word in ans:\n",
    "        new_list = []\n",
    "        new_list.append(word)\n",
    "        new_list.append(str(len(ans[word])))\n",
    "        for element in ans[word]:\n",
    "            new_list.append(str(element))\n",
    "        w.writerow(new_list)"
   ]
  },
  {
   "cell_type": "code",
   "execution_count": 7,
   "metadata": {},
   "outputs": [
    {
     "name": "stdout",
     "output_type": "stream",
     "text": "*****************************************************************\n\n*****************************************************************\n\n**********************Enter exit to quit*************************\n"
    }
   ],
   "source": [
    "index = dict(index)\n",
    "pattern = re.compile(r'(^(\\S+)(\\s+)?(AND|OR)(\\s+)?(\\S+)?$)*')\n",
    "while True:\n",
    "    print(\"*****************************************************************\\n\")\n",
    "    print(\"*****************************************************************\\n\")\n",
    "    print(\"**********************Enter exit to quit*************************\")\n",
    "    query = input('Please enter the content of query (or press enter to quit): ')\n",
    "    if query.lower() == 'exit':\n",
    "        break\n",
    "    else:\n",
    "        if re.match(pattern, query):\n",
    "            keywords = re.split(r'\\s+',query)\n",
    "            idx = index.get(keywords[0], {})\n",
    "            i = 1\n",
    "            while i <= (len(keywords)-1)/2:\n",
    "                if keywords[i] == 'AND':\n",
    "                    idx = idx & index.get(keywords[i+1], set())\n",
    "                elif keywords[i] == 'OR':\n",
    "                    idx = idx | index.get(keywords[i+1], set())\n",
    "                elif keywords[i] == 'NOT':\n",
    "                    idx = idx & ~index.get(keywords[i+1], set())\n",
    "                i = i + 1\n",
    "            if len(idx) == 0:\n",
    "                print('No results retrieved.')\n",
    "            else:\n",
    "                print('The result is: ')\n",
    "                for id in idx:\n",
    "                    print(id + ' ')\n",
    "        else:\n",
    "            print('Invalid input!')"
   ]
  },
  {
   "cell_type": "code",
   "execution_count": null,
   "metadata": {},
   "outputs": [],
   "source": []
  }
 ]
}